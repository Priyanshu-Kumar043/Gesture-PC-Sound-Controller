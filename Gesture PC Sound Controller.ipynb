{
 "cells": [
  {
   "cell_type": "code",
   "execution_count": null,
   "id": "fb4c03ca",
   "metadata": {},
   "outputs": [],
   "source": [
    "pip install opencv-python"
   ]
  },
  {
   "cell_type": "code",
   "execution_count": null,
   "id": "2b0442b6",
   "metadata": {},
   "outputs": [],
   "source": [
    "import cv2\n",
    "import mediapipe as mp\n",
    "import math\n",
    "import numpy"
   ]
  },
  {
   "cell_type": "code",
   "execution_count": null,
   "id": "6da5017e",
   "metadata": {},
   "outputs": [],
   "source": [
    "from ctypes import cast, POINTER\n",
    "from comtypes import CLSCTX_ALL\n",
    "from pycaw.pycaw import AudioUtilities, IAudioEndpointVolume\n",
    "\n",
    "\n",
    "devices = AudioUtilities.GetSpeakers()\n",
    "interface = devices.Activate(\n",
    "    IAudioEndpointVolume._iid_, CLSCTX_ALL, None)\n",
    "volume = cast(interface, POINTER(IAudioEndpointVolume))\n",
    "\n",
    "cap = cv2.VideoCapture(0)\n",
    "mpDraw = mp.solutions.drawing_utils\n",
    "drawing_styles = mp.solutions.drawing_styles\n",
    "mpHands = mp.solutions.hands\n",
    "hands = mpHands.Hands()"
   ]
  },
  {
   "cell_type": "code",
   "execution_count": null,
   "id": "32d88aa9",
   "metadata": {},
   "outputs": [],
   "source": [
    "while True:\n",
    "    success, img = cap.read()\n",
    "    imgRGB = cv2.cvtColor(img, cv2.COLOR_BGR2RGB)\n",
    "    results = hands.process(imgRGB)\n",
    "    if results.multi_hand_landmarks:\n",
    "        for handLms in results.multi_hand_landmarks:\n",
    "            lmList =[]\n",
    "            for id, lm in enumerate(handLms.landmark):\n",
    "                h,w,c = img.shape\n",
    "                cx, cy = int(lm.x*w) , int(lm.y*h)\n",
    "                lmList.append([id,cx, cy])\n",
    "\n",
    "\n",
    "                #print(id, lm)\n",
    "                #mpDraw.draw_landmark(img, handLms, mpHands.HAND_CONNECTIONS)\n",
    "            if lmList:\n",
    "                x1, y1 = lmList[4][1] , lmList[4][2]\n",
    "                x2, y2 = lmList[8][1] , lmList[8][2]\n",
    "                cv2.circle(img, (x1,y1), 5, (255,0,0))\n",
    "                cv2.circle(img, (x2,y2), 5, (200,0,0))\n",
    "                cv2.line(img, (x1,y1), (x2,y2), (255,128,0), 4)\n",
    "                z1,z2 = (x1+x2)//2 , (y1+y2)//2\n",
    "                length = math.hypot(x2-x1 , y2-y1)\n",
    "                #print(length)\n",
    "            volRange = volume.GetVolumeRange()\n",
    "            minVol = volRange[0]\n",
    "            maxVol = volRange[1]\n",
    "            vol = numpy.interp(length, [50,100], [minVol, maxVol])\n",
    "            volPer = numpy.interp(length, [50,100], [0,100])\n",
    "            volBar = numpy.interp(length, [50,100], [400,150])\n",
    "            volume.SetMasterVolumeLevel(vol, None)\n",
    "            cv2.rectangle(img,(50,150), (85,400), (255,0,0), 3)\n",
    "            cv2.rectangle(img,(50,int(volBar)), (85,400), (255, 128, 0), cv2.FILLED)\n",
    "\n",
    "\n",
    "    cv2.imshow(\"image\",img)\n",
    "    cv2.waitKey(1)\n"
   ]
  }
 ],
 "metadata": {
  "kernelspec": {
   "display_name": "Python 3 (ipykernel)",
   "language": "python",
   "name": "python3"
  },
  "language_info": {
   "codemirror_mode": {
    "name": "ipython",
    "version": 3
   },
   "file_extension": ".py",
   "mimetype": "text/x-python",
   "name": "python",
   "nbconvert_exporter": "python",
   "pygments_lexer": "ipython3",
   "version": "3.9.13"
  }
 },
 "nbformat": 4,
 "nbformat_minor": 5
}
